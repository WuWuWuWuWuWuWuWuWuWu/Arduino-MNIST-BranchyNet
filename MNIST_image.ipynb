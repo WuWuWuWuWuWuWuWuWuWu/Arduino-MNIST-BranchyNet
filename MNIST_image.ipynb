{
 "cells": [
  {
   "attachments": {},
   "cell_type": "markdown",
   "metadata": {},
   "source": [
    "Library"
   ]
  },
  {
   "cell_type": "code",
   "execution_count": 1,
   "metadata": {},
   "outputs": [
    {
     "name": "stdout",
     "output_type": "stream",
     "text": [
      "0\n",
      "0\n",
      "0\n",
      "0\n",
      "0\n",
      "0\n",
      "0\n",
      "0\n",
      "0\n",
      "0\n",
      "0\n",
      "0\n",
      "0\n",
      "0\n",
      "0\n",
      "0\n",
      "0\n",
      "0\n",
      "0\n",
      "0\n",
      "0\n",
      "0\n",
      "0\n",
      "0\n",
      "0\n",
      "0\n",
      "0\n",
      "\n",
      "[sudo] password for user: \n"
     ]
    }
   ],
   "source": [
    "import os\n",
    "os.environ[\"CUDA_VISIBLE_DEVICES\"] = \"0\"\n",
    "os.environ[\"TF_ENABLE_ONEDNN_OPTS\"] = \"0\"\n",
    "\n",
    "\n",
    "import subprocess\n",
    "with open(os.path.expanduser(\"~/successful NUMA node read from SysFS had negative value (-1)\"), \"r\") as f:\n",
    "    password = f.readline()\n",
    "proc = subprocess.Popen(['sudo', '-S', 'sh', '-c', 'for a in /sys/bus/pci/devices/*; do echo 0 | sudo tee -a $a/numa_node; done'], stdin=subprocess.PIPE, stdout=subprocess.PIPE, stderr=subprocess.PIPE,universal_newlines= True)\n",
    "stdout, stderr = proc.communicate(input=password+'\\n')\n",
    "print(stdout)\n",
    "print(stderr)\n",
    "\n",
    "import tensorflow as tf\n",
    "import numpy as np\n",
    "import matplotlib.pyplot as plt"
   ]
  },
  {
   "attachments": {},
   "cell_type": "markdown",
   "metadata": {},
   "source": [
    "Dataset"
   ]
  },
  {
   "cell_type": "code",
   "execution_count": 2,
   "metadata": {},
   "outputs": [],
   "source": [
    "(x_train, y_train), (x_test, y_test) = tf.keras.datasets.mnist.load_data()\n",
    "x_train, x_test = x_train.reshape(-1, 28 ,28, 1).astype(np.uint8), x_test.reshape(-1, 28 ,28, 1).astype(np.uint8)\n",
    "validation_gen = tf.keras.preprocessing.image.ImageDataGenerator(rotation_range= 30, width_shift_range= 0.2, height_shift_range= 0.2, zoom_range= 0.2, data_format= 'channels_last', dtype= np.uint8)\n",
    "validation_gen.fit(x_test)\n",
    "validation_generator = validation_gen.flow(x_test, y_test, batch_size= 1, shuffle=True, seed= 2, save_to_dir= None)"
   ]
  },
  {
   "attachments": {},
   "cell_type": "markdown",
   "metadata": {},
   "source": [
    "save image"
   ]
  },
  {
   "cell_type": "code",
   "execution_count": 3,
   "metadata": {},
   "outputs": [],
   "source": [
    "quant = True\n",
    "epochs = 800\n",
    "image_list = []\n",
    "with open(os.path.expanduser(\"~/Desktop/image_data.h\"), \"w+\") as f:\n",
    "    f.write(\"const uint8_t image_data[\" + str(epochs) + \"][784] PROGMEM = {\\n\")\n",
    "    # f.write(\"unsigned int image_data[784] = {\\n\")\n",
    "    for i in range(epochs):\n",
    "        x,y =validation_generator.next()\n",
    "        if(epochs < 5):\n",
    "            plt.imshow(x[0])\n",
    "            plt.show()\n",
    "        image_list.append(y)\n",
    "        if(epochs > 1):\n",
    "            f.write(\"{\")\n",
    "        for j in range(28):\n",
    "            for k in range(28):\n",
    "                if(quant == False):\n",
    "                    f.write(str(x[0][j][k][0] / 255.0)) #float32\n",
    "                elif(quant == True):\n",
    "                    f.write(str(x[0][j][k][0]))   #uint8\n",
    "                if((j < 27 and k != 27) or (j == 27 and k != 27)):\n",
    "                    f.write(\",\")\n",
    "                if(k == 27 and j == 27 and epochs > 1):\n",
    "                    f.write(\"}\")\n",
    "                if(j < 27 and k == 27):\n",
    "                    f.write(\",\")\n",
    "            if(j != 27):    \n",
    "                f.write(\"\\n\")\n",
    "        if(i != epochs - 1):\n",
    "            f.write(\",\")\n",
    "        f.write(\"\\n\")\n",
    "    f.write(\"};\")\n",
    "\n",
    "with open(os.path.expanduser(\"~/Desktop/image_list.h\"), \"w+\") as f:\n",
    "    f.write(\"const int image_count = \" + str(epochs) + \";\\n\")\n",
    "    f.write(\"const int image_list[\" + str(epochs) + \"] = {\\n\")\n",
    "    for i in range(epochs):\n",
    "        f.write(str(image_list[i][0]))\n",
    "        if(i != epochs - 1):\n",
    "            f.write(\",\\n\")\n",
    "    f.write(\"\\n};\")"
   ]
  }
 ],
 "metadata": {
  "kernelspec": {
   "display_name": "Python 3",
   "language": "python",
   "name": "python3"
  },
  "language_info": {
   "codemirror_mode": {
    "name": "ipython",
    "version": 3
   },
   "file_extension": ".py",
   "mimetype": "text/x-python",
   "name": "python",
   "nbconvert_exporter": "python",
   "pygments_lexer": "ipython3",
   "version": "3.9.0"
  },
  "orig_nbformat": 4
 },
 "nbformat": 4,
 "nbformat_minor": 2
}
