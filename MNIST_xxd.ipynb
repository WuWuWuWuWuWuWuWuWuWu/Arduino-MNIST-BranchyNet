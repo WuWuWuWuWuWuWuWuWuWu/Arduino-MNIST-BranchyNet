{
 "cells": [
  {
   "cell_type": "code",
   "execution_count": 1,
   "metadata": {
    "ExecuteTime": {
     "end_time": "2023-07-19T20:55:35.975085822Z",
     "start_time": "2023-07-19T20:55:35.974647110Z"
    }
   },
   "outputs": [],
   "source": [
    "import os\n",
    "import subprocess"
   ]
  },
  {
   "cell_type": "code",
   "execution_count": 2,
   "metadata": {
    "ExecuteTime": {
     "end_time": "2023-07-19T20:55:35.975414380Z",
     "start_time": "2023-07-19T20:55:35.974930092Z"
    }
   },
   "outputs": [],
   "source": [
    "input_file = [\"trunk_1_uint8.tflite\", \"trunk_2_uint8.tflite\", \"trunk_3_uint8.tflite\", \"branch_1_uint8.tflite\", \"branch_2_uint8.tflite\", \"branch_3_uint8.tflite\", \"branch_4_uint8.tflite\"]\n",
    "for i in range(len(input_file)):\n",
    "    input_file[i] = os.path.expanduser(\"~/Desktop/\") + input_file[i]\n",
    "    subprocess.run(f\"xxd -i {input_file[i]} > {input_file[i]}.h\", shell=True)"
   ]
  }
 ],
 "metadata": {
  "kernelspec": {
   "display_name": "Python 3",
   "language": "python",
   "name": "python3"
  },
  "language_info": {
   "codemirror_mode": {
    "name": "ipython",
    "version": 3
   },
   "file_extension": ".py",
   "mimetype": "text/x-python",
   "name": "python",
   "nbconvert_exporter": "python",
   "pygments_lexer": "ipython3",
   "version": "3.9.0"
  },
  "orig_nbformat": 4
 },
 "nbformat": 4,
 "nbformat_minor": 2
}
