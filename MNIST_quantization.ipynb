{
 "cells": [
  {
   "attachments": {},
   "cell_type": "markdown",
   "metadata": {},
   "source": [
    "Environment && Library "
   ]
  },
  {
   "cell_type": "code",
   "execution_count": 1,
   "metadata": {},
   "outputs": [
    {
     "name": "stdout",
     "output_type": "stream",
     "text": [
      "0\n",
      "0\n",
      "0\n",
      "0\n",
      "0\n",
      "0\n",
      "0\n",
      "0\n",
      "0\n",
      "0\n",
      "0\n",
      "0\n",
      "0\n",
      "0\n",
      "0\n",
      "0\n",
      "0\n",
      "0\n",
      "0\n",
      "0\n",
      "0\n",
      "0\n",
      "0\n",
      "0\n",
      "0\n",
      "0\n",
      "0\n",
      "\n",
      "[sudo] password for user: \n"
     ]
    }
   ],
   "source": [
    "import os\n",
    "os.environ[\"CUDA_VISIBLE_DEVICES\"] = \"0\"\n",
    "os.environ[\"TF_ENABLE_ONEDNN_OPTS\"] = \"0\"\n",
    "\n",
    "\n",
    "import subprocess\n",
    "with open(os.path.expanduser(\"~/successful NUMA node read from SysFS had negative value (-1)\"), \"r\") as f:\n",
    "    password = f.readline()\n",
    "proc = subprocess.Popen(['sudo', '-S', 'sh', '-c', 'for a in /sys/bus/pci/devices/*; do echo 0 | sudo tee -a $a/numa_node; done'], stdin=subprocess.PIPE, stdout=subprocess.PIPE, stderr=subprocess.PIPE,universal_newlines= True)\n",
    "stdout, stderr = proc.communicate(input=password+'\\n')\n",
    "print(stdout)\n",
    "print(stderr)\n",
    "\n",
    "import numpy as np\n",
    "import tensorflow as tf"
   ]
  },
  {
   "attachments": {},
   "cell_type": "markdown",
   "metadata": {},
   "source": [
    "Configuration"
   ]
  },
  {
   "cell_type": "code",
   "execution_count": 2,
   "metadata": {},
   "outputs": [
    {
     "name": "stderr",
     "output_type": "stream",
     "text": [
      "2023-07-22 19:39:21.448184: I tensorflow/core/platform/cpu_feature_guard.cc:193] This TensorFlow binary is optimized with oneAPI Deep Neural Network Library (oneDNN) to use the following CPU instructions in performance-critical operations:  AVX2 AVX512F AVX512_VNNI FMA\n",
      "To enable them in other operations, rebuild TensorFlow with the appropriate compiler flags.\n",
      "2023-07-22 19:39:21.757184: I tensorflow/core/common_runtime/gpu/gpu_device.cc:1532] Created device /job:localhost/replica:0/task:0/device:GPU:0 with 3817 MB memory:  -> device: 0, name: NVIDIA GeForce RTX 3060 Laptop GPU, pci bus id: 0000:01:00.0, compute capability: 8.6\n"
     ]
    },
    {
     "name": "stdout",
     "output_type": "stream",
     "text": [
      "Model: \"model\"\n",
      "__________________________________________________________________________________________________\n",
      " Layer (type)                   Output Shape         Param #     Connected to                     \n",
      "==================================================================================================\n",
      " input (InputLayer)             [(None, 28, 28, 1)]  0           []                               \n",
      "                                                                                                  \n",
      " C1 (Conv2D)                    (None, 24, 24, 6)    156         ['input[0][0]']                  \n",
      "                                                                                                  \n",
      " S2 (AveragePooling2D)          (None, 12, 12, 6)    0           ['C1[0][0]']                     \n",
      "                                                                                                  \n",
      " C3 (Conv2D)                    (None, 8, 8, 16)     2416        ['S2[0][0]']                     \n",
      "                                                                                                  \n",
      " S4 (AveragePooling2D)          (None, 4, 4, 16)     0           ['C3[0][0]']                     \n",
      "                                                                                                  \n",
      " Flatten_3 (Flatten)            (None, 256)          0           ['S4[0][0]']                     \n",
      "                                                                                                  \n",
      " F5 (Dense)                     (None, 120)          30840       ['Flatten_3[0][0]']              \n",
      "                                                                                                  \n",
      " Flatten_1 (Flatten)            (None, 3456)         0           ['C1[0][0]']                     \n",
      "                                                                                                  \n",
      " Flatten_2 (Flatten)            (None, 1024)         0           ['C3[0][0]']                     \n",
      "                                                                                                  \n",
      " F6 (Dense)                     (None, 84)           10164       ['F5[0][0]']                     \n",
      "                                                                                                  \n",
      " exit_1 (Dense)                 (None, 10)           34570       ['Flatten_1[0][0]']              \n",
      "                                                                                                  \n",
      " exit_2 (Dense)                 (None, 10)           10250       ['Flatten_2[0][0]']              \n",
      "                                                                                                  \n",
      " exit_3 (Dense)                 (None, 10)           1210        ['F5[0][0]']                     \n",
      "                                                                                                  \n",
      " exit_4 (Dense)                 (None, 10)           850         ['F6[0][0]']                     \n",
      "                                                                                                  \n",
      "==================================================================================================\n",
      "Total params: 90,456\n",
      "Trainable params: 90,456\n",
      "Non-trainable params: 0\n",
      "__________________________________________________________________________________________________\n",
      "float32\n"
     ]
    }
   ],
   "source": [
    "augmentation = True\n",
    "quant = True\n",
    "if(augmentation == True):\n",
    "    model = tf.keras.models.load_model(os.path.expanduser(\"~/Desktop/augmentation_functionAPI/\"))\n",
    "elif(augmentation == False):\n",
    "    model = tf.keras.models.load_model(os.path.expanduser(\"~/Desktop/Non_augmentation_functionAPI/\"))\n",
    "model.summary()\n",
    "print(model.dtype)"
   ]
  },
  {
   "attachments": {},
   "cell_type": "markdown",
   "metadata": {},
   "source": [
    "Divide Model"
   ]
  },
  {
   "cell_type": "code",
   "execution_count": 3,
   "metadata": {},
   "outputs": [],
   "source": [
    "trunk_1 = tf.keras.Model(inputs = model.layers[0].input, outputs = model.layers[1].output)      ### Input ~ C1 ###          \n",
    "branch_1 = tf.keras.Model(inputs = model.layers[7].input, outputs = model.layers[10].output)    ### Flatten_1 ~ Exit_1 ###\n",
    "trunk_2 = tf.keras.Model(inputs = model.layers[2].input, outputs = model.layers[3].output)      ### S2 ~ C3 ###\n",
    "branch_2 = tf.keras.Model(inputs = model.layers[8].input, outputs = model.layers[11].output)    ### Flatten_2 ~ Exit_2 ###\n",
    "trunk_3 = tf.keras.Model(inputs = model.layers[4].input, outputs = model.layers[6].output)      ### S4 ~ F5 ###\n",
    "branch_3 = tf.keras.Model(inputs = model.layers[12].input, outputs = model.layers[12].output)   ### Exit_3 ###\n",
    "branch_4 = tf.keras.Model(inputs = model.layers[9].input, outputs = model.layers[13].output)    ### F6 ~ Exit_4 ###\n",
    "\n",
    "module_name = [\"trunk_1\", \"branch_1\", \"trunk_2\", \"branch_2\", \"trunk_3\", \"branch_3\", \"branch_4\"]\n",
    "module_array = [trunk_1, branch_1, trunk_2, branch_2, trunk_3, branch_3, branch_4]"
   ]
  },
  {
   "attachments": {},
   "cell_type": "markdown",
   "metadata": {},
   "source": [
    "Dataset"
   ]
  },
  {
   "cell_type": "code",
   "execution_count": 4,
   "metadata": {},
   "outputs": [],
   "source": [
    "(x_train, y_train), (x_test, y_test) = tf.keras.datasets.mnist.load_data()\n",
    "x_train, x_test = x_train.reshape(-1, 28 ,28, 1).astype(np.float32) / 255.0, x_test.reshape(-1, 28 ,28, 1).astype(np.float32) / 255.0\n",
    "if(augmentation == True):\n",
    "    train_gen = tf.keras.preprocessing.image.ImageDataGenerator(rotation_range= 30, width_shift_range= 0.2, height_shift_range= 0.2, zoom_range= 0.2, data_format= 'channels_last', dtype= np.float32)\n",
    "elif(augmentation == False):\n",
    "    train_gen = tf.keras.preprocessing.image.ImageDataGenerator(rotation_range= 0, width_shift_range= 0, height_shift_range= 0, zoom_range= 0, data_format= 'channels_last', dtype= np.float32)"
   ]
  },
  {
   "attachments": {},
   "cell_type": "markdown",
   "metadata": {},
   "source": [
    "float32"
   ]
  },
  {
   "cell_type": "code",
   "execution_count": 5,
   "metadata": {},
   "outputs": [],
   "source": [
    "if(quant == False):\n",
    "    for i in range(7):\n",
    "        converter = tf.lite.TFLiteConverter.from_keras_model(module_array[i])\n",
    "        tflite_model = converter.convert()\n",
    "\n",
    "        # Save the unquantized/float model:\n",
    "        save_path = os.path.expanduser(\"~/Desktop/\") + module_name[i] + \"_float32.tflite\"\n",
    "        with open(save_path, \"wb\") as f:\n",
    "            f.write(tflite_model)"
   ]
  },
  {
   "attachments": {},
   "cell_type": "markdown",
   "metadata": {},
   "source": [
    "uint8"
   ]
  },
  {
   "cell_type": "code",
   "execution_count": 6,
   "metadata": {},
   "outputs": [],
   "source": [
    "def inference(x, trunk_1, trunk_2, trunk_3, step):\n",
    "    if(step >= 1):\n",
    "        interpreter = tf.lite.Interpreter(model_content = trunk_1)\n",
    "        interpreter.allocate_tensors()\n",
    "        input_details = interpreter.get_input_details()\n",
    "        output_details = interpreter.get_output_details()\n",
    "        interpreter.set_tensor(input_details[0]['index'], x)\n",
    "        interpreter.invoke()\n",
    "        x = interpreter.get_tensor(output_details[0]['index'])\n",
    "\n",
    "    if(step >= 3):\n",
    "        interpreter = tf.lite.Interpreter(model_content = trunk_2)\n",
    "        interpreter.allocate_tensors()\n",
    "        input_details = interpreter.get_input_details()\n",
    "        output_details = interpreter.get_output_details()\n",
    "        interpreter.set_tensor(input_details[0]['index'], x)\n",
    "        interpreter.invoke()\n",
    "        x = interpreter.get_tensor(output_details[0]['index'])\n",
    "\n",
    "    if(step >= 5):\n",
    "        interpreter = tf.lite.Interpreter(model_content = trunk_3)\n",
    "        interpreter.allocate_tensors()\n",
    "        input_details = interpreter.get_input_details()\n",
    "        output_details = interpreter.get_output_details()\n",
    "        interpreter.set_tensor(input_details[0]['index'], x)\n",
    "        interpreter.invoke()\n",
    "        x = interpreter.get_tensor(output_details[0]['index'])\n",
    "    \n",
    "    return x"
   ]
  },
  {
   "cell_type": "code",
   "execution_count": 7,
   "metadata": {},
   "outputs": [
    {
     "name": "stderr",
     "output_type": "stream",
     "text": [
      "WARNING:absl:Found untraced functions such as _jit_compiled_convolution_op while saving (showing 1 of 1). These functions will not be directly callable after loading.\n"
     ]
    },
    {
     "name": "stdout",
     "output_type": "stream",
     "text": [
      "INFO:tensorflow:Assets written to: /tmp/tmp94wvsil6/assets\n"
     ]
    },
    {
     "name": "stderr",
     "output_type": "stream",
     "text": [
      "INFO:tensorflow:Assets written to: /tmp/tmp94wvsil6/assets\n",
      "/home/user/.local/lib/python3.9/site-packages/tensorflow/lite/python/convert.py:766: UserWarning: Statistics for quantized inputs were expected, but not specified; continuing anyway.\n",
      "  warnings.warn(\"Statistics for quantized inputs were expected, but not \"\n",
      "2023-07-22 19:39:22.713130: W tensorflow/compiler/mlir/lite/python/tf_tfl_flatbuffer_helpers.cc:362] Ignored output_format.\n",
      "2023-07-22 19:39:22.713150: W tensorflow/compiler/mlir/lite/python/tf_tfl_flatbuffer_helpers.cc:365] Ignored drop_control_dependency.\n",
      "2023-07-22 19:39:22.713588: I tensorflow/cc/saved_model/reader.cc:43] Reading SavedModel from: /tmp/tmp94wvsil6\n",
      "2023-07-22 19:39:22.713958: I tensorflow/cc/saved_model/reader.cc:81] Reading meta graph with tags { serve }\n",
      "2023-07-22 19:39:22.713973: I tensorflow/cc/saved_model/reader.cc:122] Reading SavedModel debug info (if present) from: /tmp/tmp94wvsil6\n",
      "2023-07-22 19:39:22.715514: I tensorflow/compiler/mlir/mlir_graph_optimization_pass.cc:354] MLIR V1 optimization pass is not enabled\n",
      "2023-07-22 19:39:22.715770: I tensorflow/cc/saved_model/loader.cc:228] Restoring SavedModel bundle.\n",
      "2023-07-22 19:39:22.725476: I tensorflow/cc/saved_model/loader.cc:212] Running initialization op on SavedModel bundle at path: /tmp/tmp94wvsil6\n",
      "2023-07-22 19:39:22.729275: I tensorflow/cc/saved_model/loader.cc:301] SavedModel load for tags { serve }; Status: success: OK. Took 15691 microseconds.\n",
      "2023-07-22 19:39:22.738165: I tensorflow/compiler/mlir/tensorflow/utils/dump_mlir_util.cc:263] disabling MLIR crash reproducer, set env var `MLIR_CRASH_REPRODUCER_DIRECTORY` to enable.\n",
      "fully_quantize: 0, inference_type: 6, input_inference_type: 3, output_inference_type: 3\n",
      "WARNING:absl:Found untraced functions such as _jit_compiled_convolution_op while saving (showing 1 of 1). These functions will not be directly callable after loading.\n"
     ]
    },
    {
     "name": "stdout",
     "output_type": "stream",
     "text": [
      "INFO:tensorflow:Assets written to: /tmp/tmp_acftxlz/assets\n"
     ]
    },
    {
     "name": "stderr",
     "output_type": "stream",
     "text": [
      "INFO:tensorflow:Assets written to: /tmp/tmp_acftxlz/assets\n",
      "2023-07-22 19:39:22.988001: W tensorflow/compiler/mlir/lite/python/tf_tfl_flatbuffer_helpers.cc:362] Ignored output_format.\n",
      "2023-07-22 19:39:22.988020: W tensorflow/compiler/mlir/lite/python/tf_tfl_flatbuffer_helpers.cc:365] Ignored drop_control_dependency.\n",
      "2023-07-22 19:39:22.988120: I tensorflow/cc/saved_model/reader.cc:43] Reading SavedModel from: /tmp/tmp_acftxlz\n",
      "2023-07-22 19:39:22.988523: I tensorflow/cc/saved_model/reader.cc:81] Reading meta graph with tags { serve }\n",
      "2023-07-22 19:39:22.988535: I tensorflow/cc/saved_model/reader.cc:122] Reading SavedModel debug info (if present) from: /tmp/tmp_acftxlz\n",
      "2023-07-22 19:39:22.989532: I tensorflow/cc/saved_model/loader.cc:228] Restoring SavedModel bundle.\n",
      "2023-07-22 19:39:22.996566: I tensorflow/cc/saved_model/loader.cc:212] Running initialization op on SavedModel bundle at path: /tmp/tmp_acftxlz\n",
      "2023-07-22 19:39:23.000138: I tensorflow/cc/saved_model/loader.cc:301] SavedModel load for tags { serve }; Status: success: OK. Took 12018 microseconds.\n"
     ]
    },
    {
     "name": "stdout",
     "output_type": "stream",
     "text": [
      "INFO:tensorflow:Assets written to: /tmp/tmpydq1kd7v/assets\n"
     ]
    },
    {
     "name": "stderr",
     "output_type": "stream",
     "text": [
      "INFO:tensorflow:Assets written to: /tmp/tmpydq1kd7v/assets\n",
      "/home/user/.local/lib/python3.9/site-packages/tensorflow/lite/python/convert.py:766: UserWarning: Statistics for quantized inputs were expected, but not specified; continuing anyway.\n",
      "  warnings.warn(\"Statistics for quantized inputs were expected, but not \"\n",
      "2023-07-22 19:39:23.230989: W tensorflow/compiler/mlir/lite/python/tf_tfl_flatbuffer_helpers.cc:362] Ignored output_format.\n",
      "2023-07-22 19:39:23.231008: W tensorflow/compiler/mlir/lite/python/tf_tfl_flatbuffer_helpers.cc:365] Ignored drop_control_dependency.\n",
      "2023-07-22 19:39:23.231114: I tensorflow/cc/saved_model/reader.cc:43] Reading SavedModel from: /tmp/tmpydq1kd7v\n",
      "2023-07-22 19:39:23.231475: I tensorflow/cc/saved_model/reader.cc:81] Reading meta graph with tags { serve }\n",
      "2023-07-22 19:39:23.231486: I tensorflow/cc/saved_model/reader.cc:122] Reading SavedModel debug info (if present) from: /tmp/tmpydq1kd7v\n",
      "2023-07-22 19:39:23.232477: I tensorflow/cc/saved_model/loader.cc:228] Restoring SavedModel bundle.\n",
      "2023-07-22 19:39:23.240121: I tensorflow/cc/saved_model/loader.cc:212] Running initialization op on SavedModel bundle at path: /tmp/tmpydq1kd7v\n",
      "2023-07-22 19:39:23.243719: I tensorflow/cc/saved_model/loader.cc:301] SavedModel load for tags { serve }; Status: success: OK. Took 12605 microseconds.\n",
      "INFO: Created TensorFlow Lite XNNPACK delegate for CPU.\n",
      "fully_quantize: 0, inference_type: 6, input_inference_type: 3, output_inference_type: 3\n",
      "WARNING:absl:Found untraced functions such as _jit_compiled_convolution_op while saving (showing 1 of 1). These functions will not be directly callable after loading.\n"
     ]
    },
    {
     "name": "stdout",
     "output_type": "stream",
     "text": [
      "INFO:tensorflow:Assets written to: /tmp/tmp4cf4eetf/assets\n"
     ]
    },
    {
     "name": "stderr",
     "output_type": "stream",
     "text": [
      "INFO:tensorflow:Assets written to: /tmp/tmp4cf4eetf/assets\n",
      "/home/user/.local/lib/python3.9/site-packages/tensorflow/lite/python/convert.py:766: UserWarning: Statistics for quantized inputs were expected, but not specified; continuing anyway.\n",
      "  warnings.warn(\"Statistics for quantized inputs were expected, but not \"\n",
      "2023-07-22 19:39:23.504439: W tensorflow/compiler/mlir/lite/python/tf_tfl_flatbuffer_helpers.cc:362] Ignored output_format.\n",
      "2023-07-22 19:39:23.504456: W tensorflow/compiler/mlir/lite/python/tf_tfl_flatbuffer_helpers.cc:365] Ignored drop_control_dependency.\n",
      "2023-07-22 19:39:23.504554: I tensorflow/cc/saved_model/reader.cc:43] Reading SavedModel from: /tmp/tmp4cf4eetf\n",
      "2023-07-22 19:39:23.504942: I tensorflow/cc/saved_model/reader.cc:81] Reading meta graph with tags { serve }\n",
      "2023-07-22 19:39:23.504955: I tensorflow/cc/saved_model/reader.cc:122] Reading SavedModel debug info (if present) from: /tmp/tmp4cf4eetf\n",
      "2023-07-22 19:39:23.506095: I tensorflow/cc/saved_model/loader.cc:228] Restoring SavedModel bundle.\n",
      "2023-07-22 19:39:23.512937: I tensorflow/cc/saved_model/loader.cc:212] Running initialization op on SavedModel bundle at path: /tmp/tmp4cf4eetf\n",
      "2023-07-22 19:39:23.516285: I tensorflow/cc/saved_model/loader.cc:301] SavedModel load for tags { serve }; Status: success: OK. Took 11731 microseconds.\n",
      "fully_quantize: 0, inference_type: 6, input_inference_type: 3, output_inference_type: 3\n",
      "WARNING:absl:Found untraced functions such as _jit_compiled_convolution_op while saving (showing 1 of 1). These functions will not be directly callable after loading.\n"
     ]
    },
    {
     "name": "stdout",
     "output_type": "stream",
     "text": [
      "INFO:tensorflow:Assets written to: /tmp/tmpbfvm3wss/assets\n"
     ]
    },
    {
     "name": "stderr",
     "output_type": "stream",
     "text": [
      "INFO:tensorflow:Assets written to: /tmp/tmpbfvm3wss/assets\n",
      "2023-07-22 19:39:23.743301: W tensorflow/compiler/mlir/lite/python/tf_tfl_flatbuffer_helpers.cc:362] Ignored output_format.\n",
      "2023-07-22 19:39:23.743321: W tensorflow/compiler/mlir/lite/python/tf_tfl_flatbuffer_helpers.cc:365] Ignored drop_control_dependency.\n",
      "2023-07-22 19:39:23.743423: I tensorflow/cc/saved_model/reader.cc:43] Reading SavedModel from: /tmp/tmpbfvm3wss\n",
      "2023-07-22 19:39:23.743831: I tensorflow/cc/saved_model/reader.cc:81] Reading meta graph with tags { serve }\n",
      "2023-07-22 19:39:23.743842: I tensorflow/cc/saved_model/reader.cc:122] Reading SavedModel debug info (if present) from: /tmp/tmpbfvm3wss\n",
      "2023-07-22 19:39:23.744842: I tensorflow/cc/saved_model/loader.cc:228] Restoring SavedModel bundle.\n",
      "2023-07-22 19:39:23.752316: I tensorflow/cc/saved_model/loader.cc:212] Running initialization op on SavedModel bundle at path: /tmp/tmpbfvm3wss\n",
      "2023-07-22 19:39:23.756043: I tensorflow/cc/saved_model/loader.cc:301] SavedModel load for tags { serve }; Status: success: OK. Took 12621 microseconds.\n"
     ]
    },
    {
     "name": "stdout",
     "output_type": "stream",
     "text": [
      "INFO:tensorflow:Assets written to: /tmp/tmpmpy1z6yh/assets\n"
     ]
    },
    {
     "name": "stderr",
     "output_type": "stream",
     "text": [
      "INFO:tensorflow:Assets written to: /tmp/tmpmpy1z6yh/assets\n",
      "/home/user/.local/lib/python3.9/site-packages/tensorflow/lite/python/convert.py:766: UserWarning: Statistics for quantized inputs were expected, but not specified; continuing anyway.\n",
      "  warnings.warn(\"Statistics for quantized inputs were expected, but not \"\n",
      "2023-07-22 19:39:23.980109: W tensorflow/compiler/mlir/lite/python/tf_tfl_flatbuffer_helpers.cc:362] Ignored output_format.\n",
      "2023-07-22 19:39:23.980128: W tensorflow/compiler/mlir/lite/python/tf_tfl_flatbuffer_helpers.cc:365] Ignored drop_control_dependency.\n",
      "2023-07-22 19:39:23.980227: I tensorflow/cc/saved_model/reader.cc:43] Reading SavedModel from: /tmp/tmpmpy1z6yh\n",
      "2023-07-22 19:39:23.980597: I tensorflow/cc/saved_model/reader.cc:81] Reading meta graph with tags { serve }\n",
      "2023-07-22 19:39:23.980608: I tensorflow/cc/saved_model/reader.cc:122] Reading SavedModel debug info (if present) from: /tmp/tmpmpy1z6yh\n",
      "2023-07-22 19:39:23.981744: I tensorflow/cc/saved_model/loader.cc:228] Restoring SavedModel bundle.\n",
      "2023-07-22 19:39:23.988934: I tensorflow/cc/saved_model/loader.cc:212] Running initialization op on SavedModel bundle at path: /tmp/tmpmpy1z6yh\n",
      "2023-07-22 19:39:23.992344: I tensorflow/cc/saved_model/loader.cc:301] SavedModel load for tags { serve }; Status: success: OK. Took 12117 microseconds.\n",
      "fully_quantize: 0, inference_type: 6, input_inference_type: 3, output_inference_type: 3\n"
     ]
    },
    {
     "name": "stdout",
     "output_type": "stream",
     "text": [
      "INFO:tensorflow:Assets written to: /tmp/tmpzxiazf2k/assets\n"
     ]
    },
    {
     "name": "stderr",
     "output_type": "stream",
     "text": [
      "INFO:tensorflow:Assets written to: /tmp/tmpzxiazf2k/assets\n",
      "/home/user/.local/lib/python3.9/site-packages/tensorflow/lite/python/convert.py:766: UserWarning: Statistics for quantized inputs were expected, but not specified; continuing anyway.\n",
      "  warnings.warn(\"Statistics for quantized inputs were expected, but not \"\n",
      "2023-07-22 19:39:24.264029: W tensorflow/compiler/mlir/lite/python/tf_tfl_flatbuffer_helpers.cc:362] Ignored output_format.\n",
      "2023-07-22 19:39:24.264047: W tensorflow/compiler/mlir/lite/python/tf_tfl_flatbuffer_helpers.cc:365] Ignored drop_control_dependency.\n",
      "2023-07-22 19:39:24.264188: I tensorflow/cc/saved_model/reader.cc:43] Reading SavedModel from: /tmp/tmpzxiazf2k\n",
      "2023-07-22 19:39:24.264620: I tensorflow/cc/saved_model/reader.cc:81] Reading meta graph with tags { serve }\n",
      "2023-07-22 19:39:24.264634: I tensorflow/cc/saved_model/reader.cc:122] Reading SavedModel debug info (if present) from: /tmp/tmpzxiazf2k\n",
      "2023-07-22 19:39:24.265633: I tensorflow/cc/saved_model/loader.cc:228] Restoring SavedModel bundle.\n",
      "2023-07-22 19:39:24.272787: I tensorflow/cc/saved_model/loader.cc:212] Running initialization op on SavedModel bundle at path: /tmp/tmpzxiazf2k\n",
      "2023-07-22 19:39:24.276406: I tensorflow/cc/saved_model/loader.cc:301] SavedModel load for tags { serve }; Status: success: OK. Took 12220 microseconds.\n",
      "fully_quantize: 0, inference_type: 6, input_inference_type: 3, output_inference_type: 3\n"
     ]
    },
    {
     "name": "stdout",
     "output_type": "stream",
     "text": [
      "INFO:tensorflow:Assets written to: /tmp/tmp8px7sh3w/assets\n"
     ]
    },
    {
     "name": "stderr",
     "output_type": "stream",
     "text": [
      "INFO:tensorflow:Assets written to: /tmp/tmp8px7sh3w/assets\n",
      "2023-07-22 19:39:24.520902: W tensorflow/compiler/mlir/lite/python/tf_tfl_flatbuffer_helpers.cc:362] Ignored output_format.\n",
      "2023-07-22 19:39:24.520920: W tensorflow/compiler/mlir/lite/python/tf_tfl_flatbuffer_helpers.cc:365] Ignored drop_control_dependency.\n",
      "2023-07-22 19:39:24.521022: I tensorflow/cc/saved_model/reader.cc:43] Reading SavedModel from: /tmp/tmp8px7sh3w\n",
      "2023-07-22 19:39:24.521442: I tensorflow/cc/saved_model/reader.cc:81] Reading meta graph with tags { serve }\n",
      "2023-07-22 19:39:24.521453: I tensorflow/cc/saved_model/reader.cc:122] Reading SavedModel debug info (if present) from: /tmp/tmp8px7sh3w\n",
      "2023-07-22 19:39:24.522731: I tensorflow/cc/saved_model/loader.cc:228] Restoring SavedModel bundle.\n",
      "2023-07-22 19:39:24.529934: I tensorflow/cc/saved_model/loader.cc:212] Running initialization op on SavedModel bundle at path: /tmp/tmp8px7sh3w\n",
      "2023-07-22 19:39:24.533689: I tensorflow/cc/saved_model/loader.cc:301] SavedModel load for tags { serve }; Status: success: OK. Took 12668 microseconds.\n"
     ]
    },
    {
     "name": "stdout",
     "output_type": "stream",
     "text": [
      "INFO:tensorflow:Assets written to: /tmp/tmpz72nhdhh/assets\n"
     ]
    },
    {
     "name": "stderr",
     "output_type": "stream",
     "text": [
      "INFO:tensorflow:Assets written to: /tmp/tmpz72nhdhh/assets\n",
      "/home/user/.local/lib/python3.9/site-packages/tensorflow/lite/python/convert.py:766: UserWarning: Statistics for quantized inputs were expected, but not specified; continuing anyway.\n",
      "  warnings.warn(\"Statistics for quantized inputs were expected, but not \"\n",
      "2023-07-22 19:39:24.732562: W tensorflow/compiler/mlir/lite/python/tf_tfl_flatbuffer_helpers.cc:362] Ignored output_format.\n",
      "2023-07-22 19:39:24.732580: W tensorflow/compiler/mlir/lite/python/tf_tfl_flatbuffer_helpers.cc:365] Ignored drop_control_dependency.\n",
      "2023-07-22 19:39:24.732681: I tensorflow/cc/saved_model/reader.cc:43] Reading SavedModel from: /tmp/tmpz72nhdhh\n",
      "2023-07-22 19:39:24.733047: I tensorflow/cc/saved_model/reader.cc:81] Reading meta graph with tags { serve }\n",
      "2023-07-22 19:39:24.733059: I tensorflow/cc/saved_model/reader.cc:122] Reading SavedModel debug info (if present) from: /tmp/tmpz72nhdhh\n",
      "2023-07-22 19:39:24.733881: I tensorflow/cc/saved_model/loader.cc:228] Restoring SavedModel bundle.\n",
      "2023-07-22 19:39:24.740713: I tensorflow/cc/saved_model/loader.cc:212] Running initialization op on SavedModel bundle at path: /tmp/tmpz72nhdhh\n",
      "2023-07-22 19:39:24.743937: I tensorflow/cc/saved_model/loader.cc:301] SavedModel load for tags { serve }; Status: success: OK. Took 11256 microseconds.\n",
      "fully_quantize: 0, inference_type: 6, input_inference_type: 3, output_inference_type: 3\n"
     ]
    },
    {
     "name": "stdout",
     "output_type": "stream",
     "text": [
      "INFO:tensorflow:Assets written to: /tmp/tmpdhk4gnft/assets\n"
     ]
    },
    {
     "name": "stderr",
     "output_type": "stream",
     "text": [
      "INFO:tensorflow:Assets written to: /tmp/tmpdhk4gnft/assets\n",
      "/home/user/.local/lib/python3.9/site-packages/tensorflow/lite/python/convert.py:766: UserWarning: Statistics for quantized inputs were expected, but not specified; continuing anyway.\n",
      "  warnings.warn(\"Statistics for quantized inputs were expected, but not \"\n",
      "2023-07-22 19:39:25.018951: W tensorflow/compiler/mlir/lite/python/tf_tfl_flatbuffer_helpers.cc:362] Ignored output_format.\n",
      "2023-07-22 19:39:25.018968: W tensorflow/compiler/mlir/lite/python/tf_tfl_flatbuffer_helpers.cc:365] Ignored drop_control_dependency.\n",
      "2023-07-22 19:39:25.019070: I tensorflow/cc/saved_model/reader.cc:43] Reading SavedModel from: /tmp/tmpdhk4gnft\n",
      "2023-07-22 19:39:25.019468: I tensorflow/cc/saved_model/reader.cc:81] Reading meta graph with tags { serve }\n",
      "2023-07-22 19:39:25.019479: I tensorflow/cc/saved_model/reader.cc:122] Reading SavedModel debug info (if present) from: /tmp/tmpdhk4gnft\n",
      "2023-07-22 19:39:25.020896: I tensorflow/cc/saved_model/loader.cc:228] Restoring SavedModel bundle.\n",
      "2023-07-22 19:39:25.031076: I tensorflow/cc/saved_model/loader.cc:212] Running initialization op on SavedModel bundle at path: /tmp/tmpdhk4gnft\n",
      "2023-07-22 19:39:25.036400: I tensorflow/cc/saved_model/loader.cc:301] SavedModel load for tags { serve }; Status: success: OK. Took 17330 microseconds.\n",
      "fully_quantize: 0, inference_type: 6, input_inference_type: 3, output_inference_type: 3\n"
     ]
    }
   ],
   "source": [
    "if(quant == True):\n",
    "    for i in range(7):\n",
    "        train_gen.fit(x_train)\n",
    "        train_generator = train_gen.flow(x_train, y_train, batch_size= 1, shuffle=True, seed=2, save_to_dir= None)\n",
    "\n",
    "        def representative_data_gen():\n",
    "            x,y = train_generator.next()\n",
    "            x = inference(x= x, trunk_1= trunk_1, trunk_2= trunk_2, trunk_3= trunk_3, step= i)\n",
    "                \n",
    "            for input_value in tf.data.Dataset.from_tensor_slices(x).batch(1).take(100):\n",
    "                yield [input_value]\n",
    "\n",
    "\n",
    "        converter = tf.lite.TFLiteConverter.from_keras_model(module_array[i])\n",
    "        converter.optimizations = [tf.lite.Optimize.DEFAULT]\n",
    "        converter.representative_dataset = representative_data_gen\n",
    "        # Ensure that if any ops can't be quantized, the converter throws an error\n",
    "        converter.target_spec.supported_ops = [tf.lite.OpsSet.TFLITE_BUILTINS_INT8]\n",
    "        # Set the input and output tensors to uint8 (APIs added in r2.3)\n",
    "        converter.inference_input_type = tf.uint8\n",
    "        converter.inference_output_type = tf.uint8\n",
    "        module_quant = converter.convert()\n",
    "\n",
    "        # Save the quantized model:\n",
    "        save_path = os.path.expanduser(\"~/Desktop/\") + module_name[i] + \"_uint8.tflite\"\n",
    "        with open(save_path, \"wb\") as f:\n",
    "            f.write(module_quant)\n",
    "            \n",
    "        converter = tf.lite.TFLiteConverter.from_keras_model(module_array[i])\n",
    "        if(i == 0):\n",
    "            trunk_1 = converter.convert()\n",
    "        elif(i == 2):\n",
    "            trunk_2 = converter.convert()\n",
    "        elif(i == 4):\n",
    "            trunk_3 = converter.convert()"
   ]
  }
 ],
 "metadata": {
  "kernelspec": {
   "display_name": "Python 3",
   "language": "python",
   "name": "python3"
  },
  "language_info": {
   "codemirror_mode": {
    "name": "ipython",
    "version": 3
   },
   "file_extension": ".py",
   "mimetype": "text/x-python",
   "name": "python",
   "nbconvert_exporter": "python",
   "pygments_lexer": "ipython3",
   "version": "3.9.0"
  },
  "orig_nbformat": 4
 },
 "nbformat": 4,
 "nbformat_minor": 2
}
